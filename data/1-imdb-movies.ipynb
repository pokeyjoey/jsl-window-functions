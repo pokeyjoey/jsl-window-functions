{
 "cells": [
  {
   "cell_type": "markdown",
   "id": "55cad958-4004-4a7e-ac02-09c9ea0b9658",
   "metadata": {
    "tags": []
   },
   "source": [
    "# IMDB Movies Lab"
   ]
  },
  {
   "cell_type": "markdown",
   "id": "51162093-f5ea-4158-8da8-fdee28f4d5a5",
   "metadata": {},
   "source": [
    "### Introduction"
   ]
  },
  {
   "cell_type": "markdown",
   "id": "83db56c9-5887-4e46-819a-8a696e1453ca",
   "metadata": {},
   "source": [
    "In this lesson, we"
   ]
  },
  {
   "cell_type": "markdown",
   "id": "e0e76cd8-49ef-4e35-a0af-89e60336b2c8",
   "metadata": {
    "tags": []
   },
   "source": [
    "### Loading our Data"
   ]
  },
  {
   "cell_type": "code",
   "execution_count": 133,
   "id": "fedef156-5c20-49cb-8133-579ae40e0d7d",
   "metadata": {},
   "outputs": [
    {
     "name": "stderr",
     "output_type": "stream",
     "text": [
      "/Users/jeffreykatz/miniconda3/envs/minimal_de/lib/python3.9/site-packages/IPython/core/interactiveshell.py:3444: DtypeWarning: Columns (3) have mixed types.Specify dtype option on import or set low_memory=False.\n",
      "  exec(code_obj, self.user_global_ns, self.user_ns)\n"
     ]
    }
   ],
   "source": [
    "import pandas as pd\n",
    "\n",
    "movies_df = pd.read_csv('./movie_data/movies.csv')\n",
    "names_df = pd.read_csv('./movie_data/names.csv')\n",
    "ratings_df = pd.read_csv('./movie_data/ratings.csv')\n",
    "title_principals_df = pd.read_csv('./movie_data/title_principals.csv')"
   ]
  },
  {
   "cell_type": "code",
   "execution_count": 134,
   "id": "012b28f6-08a8-41a6-8d3f-a8959e74151e",
   "metadata": {},
   "outputs": [
    {
     "data": {
      "text/plain": [
       "23710"
      ]
     },
     "execution_count": 134,
     "metadata": {},
     "output_type": "execute_result"
    }
   ],
   "source": [
    "movies_df['budget'].notna().sum()"
   ]
  },
  {
   "cell_type": "code",
   "execution_count": 135,
   "id": "5fcc9b5c-4494-442c-9593-dd2dc065f354",
   "metadata": {},
   "outputs": [
    {
     "data": {
      "text/plain": [
       "Index(['imdb_title_id', 'title', 'original_title', 'year', 'date_published',\n",
       "       'genre', 'duration', 'country', 'language', 'director', 'writer',\n",
       "       'production_company', 'actors', 'description', 'avg_vote', 'votes',\n",
       "       'budget', 'usa_gross_income', 'worlwide_gross_income', 'metascore',\n",
       "       'reviews_from_users', 'reviews_from_critics'],\n",
       "      dtype='object')"
      ]
     },
     "execution_count": 135,
     "metadata": {},
     "output_type": "execute_result"
    }
   ],
   "source": [
    "movies_df.columns"
   ]
  },
  {
   "cell_type": "code",
   "execution_count": 136,
   "id": "deb12dd7-9f97-48bb-ab0c-e1b1e0cfc694",
   "metadata": {},
   "outputs": [],
   "source": [
    "columns = ['imdb_title_id', 'title', 'year', \n",
    "           'date_published', \n",
    " 'genre', 'duration', 'country', 'language', \n",
    " 'director', 'writer', 'budget', \n",
    " 'worlwide_gross_income', 'metascore']\n",
    "\n",
    "selected_movies_df = movies_df[columns]\n",
    "\n",
    "budget = selected_movies_df.budget.str.extract('(\\d+)').astype('float')\n",
    "income = selected_movies_df.worlwide_gross_income.str.extract('(\\d+)').astype('float')"
   ]
  },
  {
   "cell_type": "code",
   "execution_count": 107,
   "id": "bae3e3ed-663b-436f-868e-2b5b02730d42",
   "metadata": {},
   "outputs": [],
   "source": [
    "income = selected_movies_df.worlwide_gross_income.str.extract('(\\d+)').astype('float')"
   ]
  },
  {
   "cell_type": "code",
   "execution_count": 137,
   "id": "f59e8a72-d751-45fb-896c-20e125a9df96",
   "metadata": {},
   "outputs": [],
   "source": [
    "movies = selected_movies_df.assign(budget = budget)"
   ]
  },
  {
   "cell_type": "code",
   "execution_count": 138,
   "id": "270cf1ac-9264-4734-b8c0-560aa199486b",
   "metadata": {},
   "outputs": [],
   "source": [
    "movies_df = movies.assign(income = income)"
   ]
  },
  {
   "cell_type": "code",
   "execution_count": 139,
   "id": "cf6db09c-2960-4aaa-84d0-d35ac981633f",
   "metadata": {},
   "outputs": [],
   "source": [
    "movies_df = movies_df.drop(columns = 'worlwide_gross_income')"
   ]
  },
  {
   "cell_type": "code",
   "execution_count": 145,
   "id": "458658d1-58bb-40f1-8b60-13622813066d",
   "metadata": {},
   "outputs": [],
   "source": [
    "movies_df.to_csv('./data/movies.csv', index = False)"
   ]
  },
  {
   "cell_type": "code",
   "execution_count": 90,
   "id": "1a4dcc61-13d3-49ce-ad54-1762ebf2e8db",
   "metadata": {},
   "outputs": [],
   "source": [
    "select_movie_df = selected_movies_df.assign(budget = budget).assign(income = income)"
   ]
  },
  {
   "cell_type": "code",
   "execution_count": 144,
   "id": "f3d19d1f-7a56-4f1b-82c2-fd8fc5ada449",
   "metadata": {},
   "outputs": [],
   "source": [
    "select_movie_df.to_csv('./movies.csv', index = False)"
   ]
  },
  {
   "cell_type": "code",
   "execution_count": 148,
   "id": "79f466fb-0a69-488d-8dee-1b1187cc038f",
   "metadata": {},
   "outputs": [
    {
     "data": {
      "text/plain": [
       "0              NaN\n",
       "1              NaN\n",
       "2              NaN\n",
       "3              NaN\n",
       "4              NaN\n",
       "           ...    \n",
       "85850    3507171.0\n",
       "85851    7299062.0\n",
       "85852          NaN\n",
       "85853       2833.0\n",
       "85854      59794.0\n",
       "Name: income, Length: 85855, dtype: float64"
      ]
     },
     "execution_count": 148,
     "metadata": {},
     "output_type": "execute_result"
    }
   ],
   "source": [
    "pd.read_csv('./data/movies.csv')['income']"
   ]
  },
  {
   "cell_type": "code",
   "execution_count": 81,
   "id": "2080de26-5ec0-479b-b570-0fc03a30ebfa",
   "metadata": {},
   "outputs": [
    {
     "data": {
      "text/html": [
       "<div>\n",
       "<style scoped>\n",
       "    .dataframe tbody tr th:only-of-type {\n",
       "        vertical-align: middle;\n",
       "    }\n",
       "\n",
       "    .dataframe tbody tr th {\n",
       "        vertical-align: top;\n",
       "    }\n",
       "\n",
       "    .dataframe thead th {\n",
       "        text-align: right;\n",
       "    }\n",
       "</style>\n",
       "<table border=\"1\" class=\"dataframe\">\n",
       "  <thead>\n",
       "    <tr style=\"text-align: right;\">\n",
       "      <th></th>\n",
       "      <th>imdb_name_id</th>\n",
       "      <th>name</th>\n",
       "      <th>height</th>\n",
       "      <th>date_of_birth</th>\n",
       "      <th>place_of_birth</th>\n",
       "      <th>children</th>\n",
       "    </tr>\n",
       "  </thead>\n",
       "  <tbody>\n",
       "    <tr>\n",
       "      <th>0</th>\n",
       "      <td>nm0000001</td>\n",
       "      <td>Fred Astaire</td>\n",
       "      <td>177.0</td>\n",
       "      <td>1899-05-10</td>\n",
       "      <td>Omaha, Nebraska, USA</td>\n",
       "      <td>2</td>\n",
       "    </tr>\n",
       "    <tr>\n",
       "      <th>1</th>\n",
       "      <td>nm0000002</td>\n",
       "      <td>Lauren Bacall</td>\n",
       "      <td>174.0</td>\n",
       "      <td>1924-09-16</td>\n",
       "      <td>The Bronx, New York City, New York, USA</td>\n",
       "      <td>3</td>\n",
       "    </tr>\n",
       "  </tbody>\n",
       "</table>\n",
       "</div>"
      ],
      "text/plain": [
       "  imdb_name_id           name  height date_of_birth  \\\n",
       "0    nm0000001   Fred Astaire   177.0    1899-05-10   \n",
       "1    nm0000002  Lauren Bacall   174.0    1924-09-16   \n",
       "\n",
       "                            place_of_birth  children  \n",
       "0                     Omaha, Nebraska, USA         2  \n",
       "1  The Bronx, New York City, New York, USA         3  "
      ]
     },
     "execution_count": 81,
     "metadata": {},
     "output_type": "execute_result"
    }
   ],
   "source": [
    "cols = ['imdb_name_id', 'name', 'height', \n",
    "       'date_of_birth', 'place_of_birth',  'children']\n",
    "\n",
    "selected_names_df = names_df[cols]\n",
    "selected_names_df[:2]"
   ]
  },
  {
   "cell_type": "code",
   "execution_count": 82,
   "id": "7be3a76d-6bd2-44f4-9605-35a353949488",
   "metadata": {},
   "outputs": [],
   "source": [
    "birth_year = selected_names_df.date_of_birth.str.split('-').str[0]"
   ]
  },
  {
   "cell_type": "code",
   "execution_count": 87,
   "id": "60a741c5-f6ea-45c5-bc83-0b5795e0dc7a",
   "metadata": {},
   "outputs": [],
   "source": [
    "selected_names_df = selected_names_df.assign(birth_year = birth_year).drop('date_of_birth', axis = 1)"
   ]
  },
  {
   "cell_type": "code",
   "execution_count": 88,
   "id": "b3ebfd29-36b0-42d0-ad8b-71217bcf7a4d",
   "metadata": {},
   "outputs": [
    {
     "data": {
      "text/html": [
       "<div>\n",
       "<style scoped>\n",
       "    .dataframe tbody tr th:only-of-type {\n",
       "        vertical-align: middle;\n",
       "    }\n",
       "\n",
       "    .dataframe tbody tr th {\n",
       "        vertical-align: top;\n",
       "    }\n",
       "\n",
       "    .dataframe thead th {\n",
       "        text-align: right;\n",
       "    }\n",
       "</style>\n",
       "<table border=\"1\" class=\"dataframe\">\n",
       "  <thead>\n",
       "    <tr style=\"text-align: right;\">\n",
       "      <th></th>\n",
       "      <th>imdb_name_id</th>\n",
       "      <th>name</th>\n",
       "      <th>height</th>\n",
       "      <th>place_of_birth</th>\n",
       "      <th>children</th>\n",
       "      <th>birth_year</th>\n",
       "    </tr>\n",
       "  </thead>\n",
       "  <tbody>\n",
       "    <tr>\n",
       "      <th>0</th>\n",
       "      <td>nm0000001</td>\n",
       "      <td>Fred Astaire</td>\n",
       "      <td>177.0</td>\n",
       "      <td>Omaha, Nebraska, USA</td>\n",
       "      <td>2</td>\n",
       "      <td>1899</td>\n",
       "    </tr>\n",
       "    <tr>\n",
       "      <th>1</th>\n",
       "      <td>nm0000002</td>\n",
       "      <td>Lauren Bacall</td>\n",
       "      <td>174.0</td>\n",
       "      <td>The Bronx, New York City, New York, USA</td>\n",
       "      <td>3</td>\n",
       "      <td>1924</td>\n",
       "    </tr>\n",
       "  </tbody>\n",
       "</table>\n",
       "</div>"
      ],
      "text/plain": [
       "  imdb_name_id           name  height  \\\n",
       "0    nm0000001   Fred Astaire   177.0   \n",
       "1    nm0000002  Lauren Bacall   174.0   \n",
       "\n",
       "                            place_of_birth  children birth_year  \n",
       "0                     Omaha, Nebraska, USA         2       1899  \n",
       "1  The Bronx, New York City, New York, USA         3       1924  "
      ]
     },
     "execution_count": 88,
     "metadata": {},
     "output_type": "execute_result"
    }
   ],
   "source": [
    "selected_names_df[:2]"
   ]
  },
  {
   "cell_type": "code",
   "execution_count": 36,
   "id": "55fe27d9-a355-4242-bbb8-9be2450e0149",
   "metadata": {},
   "outputs": [],
   "source": [
    "cols = ['imdb_title_id', 'weighted_average_vote', \n",
    "        'total_votes', 'mean_vote',\n",
    "       'median_vote']\n",
    "ratings_df = ratings_df[cols]"
   ]
  },
  {
   "cell_type": "code",
   "execution_count": 42,
   "id": "53c004d2-c764-4400-ad2e-b915b15cd017",
   "metadata": {},
   "outputs": [],
   "source": [
    "cols = ['imdb_title_id', 'imdb_name_id', 'category']\n",
    "\n",
    "selected_title_principals_df = title_principals_df[cols]"
   ]
  },
  {
   "cell_type": "code",
   "execution_count": 93,
   "id": "eb85b644-fd38-4f31-910c-29a0fd297003",
   "metadata": {},
   "outputs": [],
   "source": [
    "select_movie_df.to_csv('./data/movies.csv', index = False)"
   ]
  },
  {
   "cell_type": "code",
   "execution_count": 95,
   "id": "eabbe02f-95ba-42c0-bb40-9ac36d37292c",
   "metadata": {},
   "outputs": [],
   "source": [
    "# select_movie_df[:2]"
   ]
  },
  {
   "cell_type": "code",
   "execution_count": 97,
   "id": "3e19c225-d420-4057-86f6-7eec07c3fa12",
   "metadata": {},
   "outputs": [],
   "source": [
    "selected_title_principals_df.to_csv('./data/title_principals.csv', index = False)"
   ]
  },
  {
   "cell_type": "code",
   "execution_count": 101,
   "id": "4bf2dd8f-656f-43fe-947a-ba7b0248be44",
   "metadata": {},
   "outputs": [],
   "source": [
    "ratings_df.to_csv('./data/ratings.csv', index = False)"
   ]
  },
  {
   "cell_type": "code",
   "execution_count": 102,
   "id": "467e293b-d861-4311-bb7d-4deba376599b",
   "metadata": {},
   "outputs": [],
   "source": [
    "selected_names_df.to_csv('./data/names.csv', index = False)"
   ]
  },
  {
   "cell_type": "code",
   "execution_count": null,
   "id": "0e68fec9-1eca-4256-9cae-473af9ad4721",
   "metadata": {},
   "outputs": [],
   "source": []
  }
 ],
 "metadata": {
  "kernelspec": {
   "display_name": "Python 3 (ipykernel)",
   "language": "python",
   "name": "python3"
  },
  "language_info": {
   "codemirror_mode": {
    "name": "ipython",
    "version": 3
   },
   "file_extension": ".py",
   "mimetype": "text/x-python",
   "name": "python",
   "nbconvert_exporter": "python",
   "pygments_lexer": "ipython3",
   "version": "3.9.7"
  }
 },
 "nbformat": 4,
 "nbformat_minor": 5
}
