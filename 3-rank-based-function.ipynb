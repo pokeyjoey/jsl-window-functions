{
 "cells": [
  {
   "cell_type": "markdown",
   "id": "db48a9b3-cf0c-4137-b048-6e5b4987e997",
   "metadata": {},
   "source": [
    "# Rank Based Window Functions"
   ]
  },
  {
   "cell_type": "markdown",
   "id": "1ad64b41-5b99-4385-81aa-67b9058d9190",
   "metadata": {},
   "source": [
    "### Introduction"
   ]
  },
  {
   "cell_type": "markdown",
   "id": "b604dd91-aed6-4114-812f-718ad1380dc0",
   "metadata": {},
   "source": [
    "Now so far, we have seen how to create running totals with window functions.  And we did so by using the `ORDER BY` statement in our window function."
   ]
  },
  {
   "cell_type": "markdown",
   "id": "6570164f-6a2d-416c-be59-ca3c0c1a3c40",
   "metadata": {},
   "source": [
    "```SQL\n",
    "SELECT date, store_nbr, transactions,\n",
    "SUM(transactions) OVER (PARTITION BY date ORDER BY transactions DESC) as running_total\n",
    "FROM store_transactions \n",
    "```"
   ]
  },
  {
   "cell_type": "markdown",
   "id": "4348a0af-583c-47d8-b0b6-39f08bfc5973",
   "metadata": {},
   "source": [
    "In this lesson, we'll see that SQL has various rank-based functions that calculate an item's rank within a window."
   ]
  },
  {
   "cell_type": "markdown",
   "id": "a9a7ad45-1de4-4604-a76d-0b379f988f98",
   "metadata": {},
   "source": [
    "### Loading our data"
   ]
  },
  {
   "cell_type": "markdown",
   "id": "3d76b4b3-895c-4f3e-a02c-3e43b8f64d52",
   "metadata": {},
   "source": [
    "Let's again use the data from the [favorita kaggle competition](https://www.kaggle.com/c/favorita-grocery-sales-forecasting/data).\n",
    "\n",
    "We begin by reading this data from a csv file."
   ]
  },
  {
   "cell_type": "code",
   "execution_count": 1,
   "id": "4291909d-72be-427e-a2fc-c7632208fa38",
   "metadata": {},
   "outputs": [
    {
     "data": {
      "text/html": [
       "<div>\n",
       "<style scoped>\n",
       "    .dataframe tbody tr th:only-of-type {\n",
       "        vertical-align: middle;\n",
       "    }\n",
       "\n",
       "    .dataframe tbody tr th {\n",
       "        vertical-align: top;\n",
       "    }\n",
       "\n",
       "    .dataframe thead th {\n",
       "        text-align: right;\n",
       "    }\n",
       "</style>\n",
       "<table border=\"1\" class=\"dataframe\">\n",
       "  <thead>\n",
       "    <tr style=\"text-align: right;\">\n",
       "      <th></th>\n",
       "      <th>id</th>\n",
       "      <th>date</th>\n",
       "      <th>store_nbr</th>\n",
       "      <th>transactions</th>\n",
       "    </tr>\n",
       "  </thead>\n",
       "  <tbody>\n",
       "    <tr>\n",
       "      <th>0</th>\n",
       "      <td>0</td>\n",
       "      <td>2013-01-01</td>\n",
       "      <td>25</td>\n",
       "      <td>770</td>\n",
       "    </tr>\n",
       "    <tr>\n",
       "      <th>1</th>\n",
       "      <td>1</td>\n",
       "      <td>2013-01-02</td>\n",
       "      <td>1</td>\n",
       "      <td>2111</td>\n",
       "    </tr>\n",
       "  </tbody>\n",
       "</table>\n",
       "</div>"
      ],
      "text/plain": [
       "   id        date  store_nbr  transactions\n",
       "0   0  2013-01-01         25           770\n",
       "1   1  2013-01-02          1          2111"
      ]
     },
     "execution_count": 1,
     "metadata": {},
     "output_type": "execute_result"
    }
   ],
   "source": [
    "import pandas as pd\n",
    "url = \"https://raw.githubusercontent.com/data-eng-10-21/window-functions/main/favorita_transactions.csv\"\n",
    "df = pd.read_csv(url)\n",
    "df[:2]"
   ]
  },
  {
   "cell_type": "markdown",
   "id": "29bce171-0b51-4c49-ba21-759b86889ff3",
   "metadata": {},
   "source": [
    "And then we can load this data into our database."
   ]
  },
  {
   "cell_type": "code",
   "execution_count": 2,
   "id": "214d8895-fe67-498a-be68-56f94c35d80b",
   "metadata": {},
   "outputs": [],
   "source": [
    "import sqlite3\n",
    "conn = sqlite3.connect('grocery.db')"
   ]
  },
  {
   "cell_type": "code",
   "execution_count": 3,
   "id": "5969e08e-6ff8-4f36-9c00-ad11a95b60b0",
   "metadata": {},
   "outputs": [],
   "source": [
    "df.to_sql('store_transactions', conn, index = False, if_exists = 'replace')"
   ]
  },
  {
   "cell_type": "markdown",
   "id": "5d9dd811-867e-43c2-94e1-4849be782066",
   "metadata": {},
   "source": [
    "### Rank based functions"
   ]
  },
  {
   "cell_type": "markdown",
   "id": "1593965c-6f2c-4b7c-ae59-f05f9c09469b",
   "metadata": {},
   "source": [
    "Now, we previously saw how we can calculate a running total."
   ]
  },
  {
   "cell_type": "code",
   "execution_count": 7,
   "id": "de911cff-3200-45b8-9fe0-1a1991597545",
   "metadata": {},
   "outputs": [
    {
     "data": {
      "text/html": [
       "<div>\n",
       "<style scoped>\n",
       "    .dataframe tbody tr th:only-of-type {\n",
       "        vertical-align: middle;\n",
       "    }\n",
       "\n",
       "    .dataframe tbody tr th {\n",
       "        vertical-align: top;\n",
       "    }\n",
       "\n",
       "    .dataframe thead th {\n",
       "        text-align: right;\n",
       "    }\n",
       "</style>\n",
       "<table border=\"1\" class=\"dataframe\">\n",
       "  <thead>\n",
       "    <tr style=\"text-align: right;\">\n",
       "      <th></th>\n",
       "      <th>date</th>\n",
       "      <th>store_nbr</th>\n",
       "      <th>transactions</th>\n",
       "      <th>running_total</th>\n",
       "    </tr>\n",
       "  </thead>\n",
       "  <tbody>\n",
       "    <tr>\n",
       "      <th>0</th>\n",
       "      <td>2016-12-23</td>\n",
       "      <td>1</td>\n",
       "      <td>3023</td>\n",
       "      <td>3023</td>\n",
       "    </tr>\n",
       "    <tr>\n",
       "      <th>1</th>\n",
       "      <td>2014-12-23</td>\n",
       "      <td>1</td>\n",
       "      <td>2861</td>\n",
       "      <td>5884</td>\n",
       "    </tr>\n",
       "    <tr>\n",
       "      <th>2</th>\n",
       "      <td>2013-12-23</td>\n",
       "      <td>1</td>\n",
       "      <td>2848</td>\n",
       "      <td>8732</td>\n",
       "    </tr>\n",
       "    <tr>\n",
       "      <th>3</th>\n",
       "      <td>2013-12-24</td>\n",
       "      <td>1</td>\n",
       "      <td>2844</td>\n",
       "      <td>11576</td>\n",
       "    </tr>\n",
       "  </tbody>\n",
       "</table>\n",
       "</div>"
      ],
      "text/plain": [
       "         date  store_nbr  transactions  running_total\n",
       "0  2016-12-23          1          3023           3023\n",
       "1  2014-12-23          1          2861           5884\n",
       "2  2013-12-23          1          2848           8732\n",
       "3  2013-12-24          1          2844          11576"
      ]
     },
     "execution_count": 7,
     "metadata": {},
     "output_type": "execute_result"
    }
   ],
   "source": [
    "query = \"\"\"SELECT date, store_nbr, transactions,\n",
    "SUM(transactions) OVER (PARTITION BY store_nbr ORDER BY transactions DESC) as running_total\n",
    "FROM store_transactions\n",
    "LIMIT 4\"\"\"\n",
    "\n",
    "pd.read_sql(query, conn)"
   ]
  },
  {
   "cell_type": "markdown",
   "id": "57d1a99d-3e79-468b-bf9b-0b7ebf2b19fa",
   "metadata": {},
   "source": [
    "Now sometimes, we may always to see how well this day performed for a particular store.  We can do so with the rank function."
   ]
  },
  {
   "cell_type": "code",
   "execution_count": 12,
   "id": "cc4b87f6-84bc-47a6-9d0a-b1a4bcfc4db4",
   "metadata": {},
   "outputs": [
    {
     "data": {
      "text/html": [
       "<div>\n",
       "<style scoped>\n",
       "    .dataframe tbody tr th:only-of-type {\n",
       "        vertical-align: middle;\n",
       "    }\n",
       "\n",
       "    .dataframe tbody tr th {\n",
       "        vertical-align: top;\n",
       "    }\n",
       "\n",
       "    .dataframe thead th {\n",
       "        text-align: right;\n",
       "    }\n",
       "</style>\n",
       "<table border=\"1\" class=\"dataframe\">\n",
       "  <thead>\n",
       "    <tr style=\"text-align: right;\">\n",
       "      <th></th>\n",
       "      <th>date</th>\n",
       "      <th>store_nbr</th>\n",
       "      <th>transactions</th>\n",
       "      <th>rank</th>\n",
       "    </tr>\n",
       "  </thead>\n",
       "  <tbody>\n",
       "    <tr>\n",
       "      <th>0</th>\n",
       "      <td>2016-12-23</td>\n",
       "      <td>1</td>\n",
       "      <td>3023</td>\n",
       "      <td>1</td>\n",
       "    </tr>\n",
       "    <tr>\n",
       "      <th>1</th>\n",
       "      <td>2014-12-23</td>\n",
       "      <td>1</td>\n",
       "      <td>2861</td>\n",
       "      <td>2</td>\n",
       "    </tr>\n",
       "    <tr>\n",
       "      <th>2</th>\n",
       "      <td>2013-12-23</td>\n",
       "      <td>1</td>\n",
       "      <td>2848</td>\n",
       "      <td>3</td>\n",
       "    </tr>\n",
       "    <tr>\n",
       "      <th>3</th>\n",
       "      <td>2013-12-24</td>\n",
       "      <td>1</td>\n",
       "      <td>2844</td>\n",
       "      <td>4</td>\n",
       "    </tr>\n",
       "  </tbody>\n",
       "</table>\n",
       "</div>"
      ],
      "text/plain": [
       "         date  store_nbr  transactions  rank\n",
       "0  2016-12-23          1          3023     1\n",
       "1  2014-12-23          1          2861     2\n",
       "2  2013-12-23          1          2848     3\n",
       "3  2013-12-24          1          2844     4"
      ]
     },
     "execution_count": 12,
     "metadata": {},
     "output_type": "execute_result"
    }
   ],
   "source": [
    "query = \"\"\"SELECT date, store_nbr, transactions, \n",
    "RANK() OVER (PARTITION BY store_nbr ORDER BY transactions DESC) as rank\n",
    "FROM store_transactions\n",
    "LIMIT 4\"\"\"\n",
    "\n",
    "pd.read_sql(query, conn)"
   ]
  },
  {
   "cell_type": "markdown",
   "id": "ce8abf84-c72b-487b-a3ac-315b4beeca9d",
   "metadata": {},
   "source": [
    "So by placing a rank before the over command, SQL displays the rank across the specified partition, in the specified order.  The rank restarts at one with each partition."
   ]
  },
  {
   "cell_type": "markdown",
   "id": "6bbb467c-a14c-4aab-9df4-2a6eb2d2a4c3",
   "metadata": {},
   "source": [
    "Similar to rank, we can also use the NTILE function, to calculate the percentile of any given row within the window.  Let's see how this works."
   ]
  },
  {
   "cell_type": "code",
   "execution_count": 31,
   "id": "65bda3cd-2860-44f2-b55d-8eab1ea4ffc0",
   "metadata": {},
   "outputs": [
    {
     "data": {
      "text/html": [
       "<div>\n",
       "<style scoped>\n",
       "    .dataframe tbody tr th:only-of-type {\n",
       "        vertical-align: middle;\n",
       "    }\n",
       "\n",
       "    .dataframe tbody tr th {\n",
       "        vertical-align: top;\n",
       "    }\n",
       "\n",
       "    .dataframe thead th {\n",
       "        text-align: right;\n",
       "    }\n",
       "</style>\n",
       "<table border=\"1\" class=\"dataframe\">\n",
       "  <thead>\n",
       "    <tr style=\"text-align: right;\">\n",
       "      <th></th>\n",
       "      <th>date</th>\n",
       "      <th>store_nbr</th>\n",
       "      <th>transactions</th>\n",
       "      <th>percentile</th>\n",
       "    </tr>\n",
       "  </thead>\n",
       "  <tbody>\n",
       "    <tr>\n",
       "      <th>0</th>\n",
       "      <td>2013-01-01</td>\n",
       "      <td>25</td>\n",
       "      <td>770</td>\n",
       "      <td>1</td>\n",
       "    </tr>\n",
       "    <tr>\n",
       "      <th>1</th>\n",
       "      <td>2013-01-02</td>\n",
       "      <td>46</td>\n",
       "      <td>4886</td>\n",
       "      <td>1</td>\n",
       "    </tr>\n",
       "    <tr>\n",
       "      <th>2</th>\n",
       "      <td>2013-01-02</td>\n",
       "      <td>44</td>\n",
       "      <td>4821</td>\n",
       "      <td>2</td>\n",
       "    </tr>\n",
       "    <tr>\n",
       "      <th>3</th>\n",
       "      <td>2013-01-02</td>\n",
       "      <td>45</td>\n",
       "      <td>4208</td>\n",
       "      <td>3</td>\n",
       "    </tr>\n",
       "    <tr>\n",
       "      <th>4</th>\n",
       "      <td>2013-01-02</td>\n",
       "      <td>47</td>\n",
       "      <td>4161</td>\n",
       "      <td>4</td>\n",
       "    </tr>\n",
       "    <tr>\n",
       "      <th>5</th>\n",
       "      <td>2013-01-02</td>\n",
       "      <td>11</td>\n",
       "      <td>3547</td>\n",
       "      <td>5</td>\n",
       "    </tr>\n",
       "    <tr>\n",
       "      <th>6</th>\n",
       "      <td>2013-01-02</td>\n",
       "      <td>3</td>\n",
       "      <td>3487</td>\n",
       "      <td>6</td>\n",
       "    </tr>\n",
       "    <tr>\n",
       "      <th>7</th>\n",
       "      <td>2013-01-02</td>\n",
       "      <td>48</td>\n",
       "      <td>3397</td>\n",
       "      <td>7</td>\n",
       "    </tr>\n",
       "  </tbody>\n",
       "</table>\n",
       "</div>"
      ],
      "text/plain": [
       "         date  store_nbr  transactions  percentile\n",
       "0  2013-01-01         25           770           1\n",
       "1  2013-01-02         46          4886           1\n",
       "2  2013-01-02         44          4821           2\n",
       "3  2013-01-02         45          4208           3\n",
       "4  2013-01-02         47          4161           4\n",
       "5  2013-01-02         11          3547           5\n",
       "6  2013-01-02          3          3487           6\n",
       "7  2013-01-02         48          3397           7"
      ]
     },
     "execution_count": 31,
     "metadata": {},
     "output_type": "execute_result"
    }
   ],
   "source": [
    "query = \"\"\"SELECT date, store_nbr, transactions, \n",
    "NTILE(100) OVER (PARTITION BY date ORDER BY transactions DESC) as percentile\n",
    "FROM store_transactions\n",
    "LIMIT 8\"\"\"\n",
    "\n",
    "pd.read_sql(query, conn)"
   ]
  },
  {
   "cell_type": "markdown",
   "id": "4a3004f1-59e6-4e98-a6bc-0d2600df3807",
   "metadata": {},
   "source": [
    "So now we can see that the second row's store had the top 1 percentile of transactions, and second is in the 2 percentile.  Notice that when using the NTILE function we need to specify how we are dividing our data. So above, we are calculating the percentile of each row."
   ]
  },
  {
   "cell_type": "markdown",
   "id": "d0a0f287-9320-4373-a641-9b14801dd851",
   "metadata": {},
   "source": [
    "```sql\n",
    "NTILE(100) OVER (PARTITION BY date ORDER BY transactions DESC) as percentile\n",
    "```"
   ]
  },
  {
   "cell_type": "markdown",
   "id": "2dff0155-84a7-4d8e-8cbb-b207b8317f32",
   "metadata": {},
   "source": [
    "But we can also divide our grouping by 20."
   ]
  },
  {
   "cell_type": "code",
   "execution_count": 37,
   "id": "dbe631ab-da46-4137-9d04-856c24a24478",
   "metadata": {},
   "outputs": [
    {
     "data": {
      "text/html": [
       "<div>\n",
       "<style scoped>\n",
       "    .dataframe tbody tr th:only-of-type {\n",
       "        vertical-align: middle;\n",
       "    }\n",
       "\n",
       "    .dataframe tbody tr th {\n",
       "        vertical-align: top;\n",
       "    }\n",
       "\n",
       "    .dataframe thead th {\n",
       "        text-align: right;\n",
       "    }\n",
       "</style>\n",
       "<table border=\"1\" class=\"dataframe\">\n",
       "  <thead>\n",
       "    <tr style=\"text-align: right;\">\n",
       "      <th></th>\n",
       "      <th>date</th>\n",
       "      <th>store_nbr</th>\n",
       "      <th>transactions</th>\n",
       "      <th>by_twenty</th>\n",
       "    </tr>\n",
       "  </thead>\n",
       "  <tbody>\n",
       "    <tr>\n",
       "      <th>0</th>\n",
       "      <td>2013-01-01</td>\n",
       "      <td>25</td>\n",
       "      <td>770</td>\n",
       "      <td>1</td>\n",
       "    </tr>\n",
       "    <tr>\n",
       "      <th>1</th>\n",
       "      <td>2013-01-02</td>\n",
       "      <td>46</td>\n",
       "      <td>4886</td>\n",
       "      <td>1</td>\n",
       "    </tr>\n",
       "    <tr>\n",
       "      <th>2</th>\n",
       "      <td>2013-01-02</td>\n",
       "      <td>44</td>\n",
       "      <td>4821</td>\n",
       "      <td>1</td>\n",
       "    </tr>\n",
       "    <tr>\n",
       "      <th>3</th>\n",
       "      <td>2013-01-02</td>\n",
       "      <td>45</td>\n",
       "      <td>4208</td>\n",
       "      <td>1</td>\n",
       "    </tr>\n",
       "    <tr>\n",
       "      <th>4</th>\n",
       "      <td>2013-01-02</td>\n",
       "      <td>47</td>\n",
       "      <td>4161</td>\n",
       "      <td>2</td>\n",
       "    </tr>\n",
       "    <tr>\n",
       "      <th>5</th>\n",
       "      <td>2013-01-02</td>\n",
       "      <td>11</td>\n",
       "      <td>3547</td>\n",
       "      <td>2</td>\n",
       "    </tr>\n",
       "    <tr>\n",
       "      <th>6</th>\n",
       "      <td>2013-01-02</td>\n",
       "      <td>3</td>\n",
       "      <td>3487</td>\n",
       "      <td>2</td>\n",
       "    </tr>\n",
       "    <tr>\n",
       "      <th>7</th>\n",
       "      <td>2013-01-02</td>\n",
       "      <td>48</td>\n",
       "      <td>3397</td>\n",
       "      <td>3</td>\n",
       "    </tr>\n",
       "  </tbody>\n",
       "</table>\n",
       "</div>"
      ],
      "text/plain": [
       "         date  store_nbr  transactions  by_twenty\n",
       "0  2013-01-01         25           770          1\n",
       "1  2013-01-02         46          4886          1\n",
       "2  2013-01-02         44          4821          1\n",
       "3  2013-01-02         45          4208          1\n",
       "4  2013-01-02         47          4161          2\n",
       "5  2013-01-02         11          3547          2\n",
       "6  2013-01-02          3          3487          2\n",
       "7  2013-01-02         48          3397          3"
      ]
     },
     "execution_count": 37,
     "metadata": {},
     "output_type": "execute_result"
    }
   ],
   "source": [
    "query = \"\"\"SELECT date, store_nbr, transactions, \n",
    "NTILE(20) OVER (PARTITION BY date ORDER BY transactions DESC) as by_twenty\n",
    "FROM store_transactions\n",
    "LIMIT 8\"\"\"\n",
    "\n",
    "pd.read_sql(query, conn)"
   ]
  },
  {
   "cell_type": "markdown",
   "id": "08755972-f2df-43bc-9f55-2ba8565f51c2",
   "metadata": {},
   "source": [
    "So this time, everything with the number one is in the top five percentile, and everything with the number two is between the 5 and 10 percentile. "
   ]
  },
  {
   "cell_type": "markdown",
   "id": "012ed5e3-ba56-47aa-ac28-108d0318cc1a",
   "metadata": {},
   "source": [
    "### Row Number vs Rank vs Dense Rank"
   ]
  },
  {
   "cell_type": "markdown",
   "id": "144a3c78-59db-4a86-81b0-c0a8e1607b4d",
   "metadata": {},
   "source": [
    "Finally, there are some slight differences between row_number, rank, and dense_rank.  This [stackoverflow post](https://stackoverflow.com/questions/11183572/whats-the-difference-between-rank-and-dense-rank-functions-in-oracle) explains the differences."
   ]
  },
  {
   "cell_type": "markdown",
   "id": "aa1ca32c-cb5c-4f9d-90be-75b51d503d5c",
   "metadata": {},
   "source": [
    "<img src=\"./stack-overflow-rank.png\" width=\"80%\">"
   ]
  },
  {
   "cell_type": "markdown",
   "id": "5c681b12-5008-4b33-aef6-36c2f5a088ee",
   "metadata": {},
   "source": [
    "### Summary"
   ]
  },
  {
   "cell_type": "markdown",
   "id": "af8601f1-8114-486b-82d5-d370b65b7a50",
   "metadata": {},
   "source": [
    "We'll practice working with some other rank based functions in the following lab."
   ]
  },
  {
   "cell_type": "markdown",
   "id": "37594044-92b4-4b4a-ac52-5f13ec57d4f5",
   "metadata": {},
   "source": [
    "### Resources"
   ]
  },
  {
   "cell_type": "markdown",
   "id": "3b16c455-faf5-4d84-a60a-314d097620b1",
   "metadata": {},
   "source": [
    "[Mode Window Functions - Row Number](https://mode.com/sql-tutorial/sql-window-functions/#row_number)"
   ]
  },
  {
   "cell_type": "markdown",
   "id": "14e72bde-e946-4390-8166-c20fd924aa64",
   "metadata": {},
   "source": [
    "[SQL rank, denserank, rownumber](https://blog.jooq.org/sql-trick-row_number-is-to-select-what-dense_rank-is-to-select-distinct/)"
   ]
  }
 ],
 "metadata": {
  "kernelspec": {
   "display_name": "Python 3 (ipykernel)",
   "language": "python",
   "name": "python3"
  },
  "language_info": {
   "codemirror_mode": {
    "name": "ipython",
    "version": 3
   },
   "file_extension": ".py",
   "mimetype": "text/x-python",
   "name": "python",
   "nbconvert_exporter": "python",
   "pygments_lexer": "ipython3",
   "version": "3.9.7"
  }
 },
 "nbformat": 4,
 "nbformat_minor": 5
}
