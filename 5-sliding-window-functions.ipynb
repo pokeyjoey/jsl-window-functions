{
 "cells": [
  {
   "cell_type": "markdown",
   "id": "45286b1f-b6cc-41ac-ab76-3cf68f8ada7c",
   "metadata": {},
   "source": [
    "# Sliding Window Functions"
   ]
  },
  {
   "cell_type": "markdown",
   "id": "55bca540-3740-453e-a710-c09f9fa1e8a4",
   "metadata": {},
   "source": [
    "### Introduction"
   ]
  },
  {
   "cell_type": "markdown",
   "id": "e0d8f209-461b-4110-a295-af01e037a29a",
   "metadata": {},
   "source": [
    "Now so far we have worked with window frames that are cumalitive.  That is, when we created our window, we did this based on some category or attribute of each row.  For example, in the window function below, we have a window for each store number.\n",
    "\n",
    "```sql\n",
    "SELECT date, store_nbr, transactions,\n",
    "SUM(transactions) OVER (partition by store_nbr ORDER BY date) as running_total\n",
    "FROM store_transactions;\n",
    "```"
   ]
  },
  {
   "cell_type": "markdown",
   "id": "ab533998-4b63-4250-875a-4ba4507e9d3e",
   "metadata": {},
   "source": [
    "This allows us to calculate aggregates across each store.  But sometimes we'll want a sliding window.  With a sliding window we can, for each day, calculate a three day average.  So with a sliding window, we have a changing window for each row.  We'll see how to create a sliding window, and various usecases for it."
   ]
  },
  {
   "cell_type": "markdown",
   "id": "7ee5e326-7ca8-4752-8e0a-708c5ea745f1",
   "metadata": {},
   "source": [
    "### Loading our Data"
   ]
  },
  {
   "cell_type": "markdown",
   "id": "4a7ffd07-3e7d-4cb0-a764-96c5e13c723d",
   "metadata": {},
   "source": [
    "Let's again use the data from the [favorita kaggle competition](https://www.kaggle.com/c/favorita-grocery-sales-forecasting/data).\n",
    "\n",
    "We begin by reading this data from a csv file."
   ]
  },
  {
   "cell_type": "code",
   "execution_count": 2,
   "id": "d694765a-563c-4888-811d-17bb7062389d",
   "metadata": {},
   "outputs": [
    {
     "data": {
      "text/html": [
       "<div>\n",
       "<style scoped>\n",
       "    .dataframe tbody tr th:only-of-type {\n",
       "        vertical-align: middle;\n",
       "    }\n",
       "\n",
       "    .dataframe tbody tr th {\n",
       "        vertical-align: top;\n",
       "    }\n",
       "\n",
       "    .dataframe thead th {\n",
       "        text-align: right;\n",
       "    }\n",
       "</style>\n",
       "<table border=\"1\" class=\"dataframe\">\n",
       "  <thead>\n",
       "    <tr style=\"text-align: right;\">\n",
       "      <th></th>\n",
       "      <th>id</th>\n",
       "      <th>date</th>\n",
       "      <th>store_nbr</th>\n",
       "      <th>transactions</th>\n",
       "    </tr>\n",
       "  </thead>\n",
       "  <tbody>\n",
       "    <tr>\n",
       "      <th>0</th>\n",
       "      <td>0</td>\n",
       "      <td>2013-01-01</td>\n",
       "      <td>25</td>\n",
       "      <td>770</td>\n",
       "    </tr>\n",
       "    <tr>\n",
       "      <th>1</th>\n",
       "      <td>1</td>\n",
       "      <td>2013-01-02</td>\n",
       "      <td>1</td>\n",
       "      <td>2111</td>\n",
       "    </tr>\n",
       "  </tbody>\n",
       "</table>\n",
       "</div>"
      ],
      "text/plain": [
       "   id        date  store_nbr  transactions\n",
       "0   0  2013-01-01         25           770\n",
       "1   1  2013-01-02          1          2111"
      ]
     },
     "execution_count": 2,
     "metadata": {},
     "output_type": "execute_result"
    }
   ],
   "source": [
    "import pandas as pd\n",
    "url = \"https://raw.githubusercontent.com/data-eng-10-21/window-functions/main/favorita_transactions.csv\"\n",
    "df = pd.read_csv(url)\n",
    "df[:2]"
   ]
  },
  {
   "cell_type": "markdown",
   "id": "8b7e0770-b6ad-478d-a1e6-7d34917c0205",
   "metadata": {},
   "source": [
    "And then we can load this data into our database."
   ]
  },
  {
   "cell_type": "code",
   "execution_count": 2,
   "id": "91f56545-5ebf-4f44-9c70-e739e71aeed9",
   "metadata": {},
   "outputs": [],
   "source": [
    "import sqlite3\n",
    "conn = sqlite3.connect('grocery.db')"
   ]
  },
  {
   "cell_type": "code",
   "execution_count": 4,
   "id": "7b73c07b-630e-4fd5-906b-8c2f0059d94b",
   "metadata": {},
   "outputs": [],
   "source": [
    "df.to_sql('store_transactions', conn, index = False, if_exists = 'replace')"
   ]
  },
  {
   "cell_type": "markdown",
   "id": "2c152dc4-7715-46bd-99f6-aefd9127b816",
   "metadata": {},
   "source": [
    "### Calculating a Running Average"
   ]
  },
  {
   "cell_type": "markdown",
   "id": "bc333e49-2f0a-4d50-8ab9-57826f39082f",
   "metadata": {},
   "source": [
    "Ok, now let's calculate running average of sales across the current row and each of the two following rows. "
   ]
  },
  {
   "cell_type": "code",
   "execution_count": 3,
   "id": "d2df408a-a2fd-48d6-8300-9c0d64d43517",
   "metadata": {},
   "outputs": [
    {
     "data": {
      "text/html": [
       "<div>\n",
       "<style scoped>\n",
       "    .dataframe tbody tr th:only-of-type {\n",
       "        vertical-align: middle;\n",
       "    }\n",
       "\n",
       "    .dataframe tbody tr th {\n",
       "        vertical-align: top;\n",
       "    }\n",
       "\n",
       "    .dataframe thead th {\n",
       "        text-align: right;\n",
       "    }\n",
       "</style>\n",
       "<table border=\"1\" class=\"dataframe\">\n",
       "  <thead>\n",
       "    <tr style=\"text-align: right;\">\n",
       "      <th></th>\n",
       "      <th>date</th>\n",
       "      <th>store_nbr</th>\n",
       "      <th>transactions</th>\n",
       "      <th>avg_transactions</th>\n",
       "    </tr>\n",
       "  </thead>\n",
       "  <tbody>\n",
       "    <tr>\n",
       "      <th>0</th>\n",
       "      <td>2013-01-02</td>\n",
       "      <td>1</td>\n",
       "      <td>2111</td>\n",
       "      <td>2111.000000</td>\n",
       "    </tr>\n",
       "    <tr>\n",
       "      <th>1</th>\n",
       "      <td>2013-01-03</td>\n",
       "      <td>1</td>\n",
       "      <td>1833</td>\n",
       "      <td>1972.000000</td>\n",
       "    </tr>\n",
       "    <tr>\n",
       "      <th>2</th>\n",
       "      <td>2013-01-04</td>\n",
       "      <td>1</td>\n",
       "      <td>1863</td>\n",
       "      <td>1935.666667</td>\n",
       "    </tr>\n",
       "    <tr>\n",
       "      <th>3</th>\n",
       "      <td>2013-01-05</td>\n",
       "      <td>1</td>\n",
       "      <td>1509</td>\n",
       "      <td>1735.000000</td>\n",
       "    </tr>\n",
       "    <tr>\n",
       "      <th>4</th>\n",
       "      <td>2013-01-06</td>\n",
       "      <td>1</td>\n",
       "      <td>520</td>\n",
       "      <td>1297.333333</td>\n",
       "    </tr>\n",
       "  </tbody>\n",
       "</table>\n",
       "</div>"
      ],
      "text/plain": [
       "         date  store_nbr  transactions  avg_transactions\n",
       "0  2013-01-02          1          2111       2111.000000\n",
       "1  2013-01-03          1          1833       1972.000000\n",
       "2  2013-01-04          1          1863       1935.666667\n",
       "3  2013-01-05          1          1509       1735.000000\n",
       "4  2013-01-06          1           520       1297.333333"
      ]
     },
     "execution_count": 3,
     "metadata": {},
     "output_type": "execute_result"
    }
   ],
   "source": [
    "import pandas as pd\n",
    "\n",
    "\n",
    "query = \"\"\"SELECT date, store_nbr, transactions,\n",
    "AVG(transactions) over (partition by store_nbr order by date rows between 2 preceding and current row) as avg_transactions\n",
    "FROM store_transactions WHERE store_nbr = 1 LIMIT 5;\n",
    "\"\"\"\n",
    "\n",
    "pd.read_sql(query, conn)"
   ]
  },
  {
   "cell_type": "markdown",
   "id": "d7200f94-9412-41dd-8c92-25cc1c6a68f5",
   "metadata": {},
   "source": [
    "So if we look perform the calculation for the row at index 2, we can indeed see that it matches a calculation of the average across the two preceeding and the current row."
   ]
  },
  {
   "cell_type": "code",
   "execution_count": 6,
   "id": "81088d02-d614-4857-9e74-3f379851a8fa",
   "metadata": {},
   "outputs": [
    {
     "data": {
      "text/plain": [
       "1935.6666666666667"
      ]
     },
     "execution_count": 6,
     "metadata": {},
     "output_type": "execute_result"
    }
   ],
   "source": [
    "(2111 + 1833 + 1863)/3"
   ]
  },
  {
   "cell_type": "markdown",
   "id": "e43b7add-f792-4cfc-9e90-819a42cbf10b",
   "metadata": {},
   "source": [
    "As does the following calculation. "
   ]
  },
  {
   "cell_type": "code",
   "execution_count": 7,
   "id": "f4f950b7-0fcd-4918-b0eb-9b22edf5dbaa",
   "metadata": {},
   "outputs": [
    {
     "data": {
      "text/plain": [
       "1735.0"
      ]
     },
     "execution_count": 7,
     "metadata": {},
     "output_type": "execute_result"
    }
   ],
   "source": [
    "(1833 + 1863 + 1509)/3"
   ]
  },
  {
   "cell_type": "markdown",
   "id": "d13d352e-5a39-4925-8053-014b908adb51",
   "metadata": {},
   "source": [
    "Now let's use a window of one day prior and one day following.  We can do so with the following."
   ]
  },
  {
   "cell_type": "code",
   "execution_count": 4,
   "id": "a66b6f08-ef64-4033-ad8c-82c064aa50c3",
   "metadata": {},
   "outputs": [
    {
     "data": {
      "text/html": [
       "<div>\n",
       "<style scoped>\n",
       "    .dataframe tbody tr th:only-of-type {\n",
       "        vertical-align: middle;\n",
       "    }\n",
       "\n",
       "    .dataframe tbody tr th {\n",
       "        vertical-align: top;\n",
       "    }\n",
       "\n",
       "    .dataframe thead th {\n",
       "        text-align: right;\n",
       "    }\n",
       "</style>\n",
       "<table border=\"1\" class=\"dataframe\">\n",
       "  <thead>\n",
       "    <tr style=\"text-align: right;\">\n",
       "      <th></th>\n",
       "      <th>date</th>\n",
       "      <th>store_nbr</th>\n",
       "      <th>transactions</th>\n",
       "      <th>avg_transactions</th>\n",
       "    </tr>\n",
       "  </thead>\n",
       "  <tbody>\n",
       "    <tr>\n",
       "      <th>0</th>\n",
       "      <td>2013-01-02</td>\n",
       "      <td>1</td>\n",
       "      <td>2111</td>\n",
       "      <td>1972.000000</td>\n",
       "    </tr>\n",
       "    <tr>\n",
       "      <th>1</th>\n",
       "      <td>2013-01-03</td>\n",
       "      <td>1</td>\n",
       "      <td>1833</td>\n",
       "      <td>1935.666667</td>\n",
       "    </tr>\n",
       "    <tr>\n",
       "      <th>2</th>\n",
       "      <td>2013-01-04</td>\n",
       "      <td>1</td>\n",
       "      <td>1863</td>\n",
       "      <td>1735.000000</td>\n",
       "    </tr>\n",
       "    <tr>\n",
       "      <th>3</th>\n",
       "      <td>2013-01-05</td>\n",
       "      <td>1</td>\n",
       "      <td>1509</td>\n",
       "      <td>1297.333333</td>\n",
       "    </tr>\n",
       "    <tr>\n",
       "      <th>4</th>\n",
       "      <td>2013-01-06</td>\n",
       "      <td>1</td>\n",
       "      <td>520</td>\n",
       "      <td>1278.666667</td>\n",
       "    </tr>\n",
       "  </tbody>\n",
       "</table>\n",
       "</div>"
      ],
      "text/plain": [
       "         date  store_nbr  transactions  avg_transactions\n",
       "0  2013-01-02          1          2111       1972.000000\n",
       "1  2013-01-03          1          1833       1935.666667\n",
       "2  2013-01-04          1          1863       1735.000000\n",
       "3  2013-01-05          1          1509       1297.333333\n",
       "4  2013-01-06          1           520       1278.666667"
      ]
     },
     "execution_count": 4,
     "metadata": {},
     "output_type": "execute_result"
    }
   ],
   "source": [
    "import pandas as pd\n",
    "\n",
    "query = \"\"\"SELECT date, store_nbr, transactions,\n",
    "AVG(transactions) over (partition by store_nbr order by date rows between 1 preceding and 1 following) as avg_transactions\n",
    "FROM store_transactions WHERE store_nbr = 1 LIMIT 5;\n",
    "\"\"\"\n",
    "\n",
    "pd.read_sql(query, conn)"
   ]
  },
  {
   "cell_type": "markdown",
   "id": "fb7f29c7-0a84-4e23-97e5-e4f0fb6e494f",
   "metadata": {},
   "source": [
    "So one way to think about window functions is that they allow us access data from another row in a specific window."
   ]
  },
  {
   "cell_type": "markdown",
   "id": "6446bd84-47a1-4e6d-8656-9175cd56b41e",
   "metadata": {},
   "source": [
    "### Calculating daily increase"
   ]
  },
  {
   "cell_type": "markdown",
   "id": "4dde30e1-560c-47bd-a515-e1a9ccc5a669",
   "metadata": {},
   "source": [
    "So we saw how we can use window functions to reference previous rows.  One other way of referencing prior rows is by using the lag function.  Below we use the lag function to find the transaction value of the previous row."
   ]
  },
  {
   "cell_type": "code",
   "execution_count": 13,
   "id": "d192a19c-2139-4360-b6c1-5c4a9ee05502",
   "metadata": {},
   "outputs": [
    {
     "data": {
      "text/html": [
       "<div>\n",
       "<style scoped>\n",
       "    .dataframe tbody tr th:only-of-type {\n",
       "        vertical-align: middle;\n",
       "    }\n",
       "\n",
       "    .dataframe tbody tr th {\n",
       "        vertical-align: top;\n",
       "    }\n",
       "\n",
       "    .dataframe thead th {\n",
       "        text-align: right;\n",
       "    }\n",
       "</style>\n",
       "<table border=\"1\" class=\"dataframe\">\n",
       "  <thead>\n",
       "    <tr style=\"text-align: right;\">\n",
       "      <th></th>\n",
       "      <th>store_nbr</th>\n",
       "      <th>date</th>\n",
       "      <th>transactions</th>\n",
       "      <th>previous_transactions</th>\n",
       "    </tr>\n",
       "  </thead>\n",
       "  <tbody>\n",
       "    <tr>\n",
       "      <th>0</th>\n",
       "      <td>1</td>\n",
       "      <td>2013-01-02</td>\n",
       "      <td>2111</td>\n",
       "      <td>NaN</td>\n",
       "    </tr>\n",
       "    <tr>\n",
       "      <th>1</th>\n",
       "      <td>1</td>\n",
       "      <td>2013-01-03</td>\n",
       "      <td>1833</td>\n",
       "      <td>2111.0</td>\n",
       "    </tr>\n",
       "    <tr>\n",
       "      <th>2</th>\n",
       "      <td>1</td>\n",
       "      <td>2013-01-04</td>\n",
       "      <td>1863</td>\n",
       "      <td>1833.0</td>\n",
       "    </tr>\n",
       "  </tbody>\n",
       "</table>\n",
       "</div>"
      ],
      "text/plain": [
       "   store_nbr        date  transactions  previous_transactions\n",
       "0          1  2013-01-02          2111                    NaN\n",
       "1          1  2013-01-03          1833                 2111.0\n",
       "2          1  2013-01-04          1863                 1833.0"
      ]
     },
     "execution_count": 13,
     "metadata": {},
     "output_type": "execute_result"
    }
   ],
   "source": [
    "query = \"\"\"SELECT store_nbr, date, transactions, LAG(transactions, 1) OVER ( \n",
    "PARTITION BY store_nbr\n",
    "ORDER BY store_nbr, date ) previous_transactions\n",
    "FROM store_transactions\n",
    "LIMIT 3\n",
    "\"\"\"\n",
    "\n",
    "pd.read_sql(query, conn)"
   ]
  },
  {
   "cell_type": "markdown",
   "id": "373811b0-51b6-4afd-b242-6d57cee612fe",
   "metadata": {},
   "source": [
    "So this is useful for comparing each day to the prior day.  Notice that for the first row, we get a value of NAN, because for the first row there is no prior row.  We can specify a default value of 0, when no value exists with the following. "
   ]
  },
  {
   "cell_type": "code",
   "execution_count": 14,
   "id": "225fef50-b938-47c3-b5fe-684e2b93bbea",
   "metadata": {},
   "outputs": [
    {
     "data": {
      "text/html": [
       "<div>\n",
       "<style scoped>\n",
       "    .dataframe tbody tr th:only-of-type {\n",
       "        vertical-align: middle;\n",
       "    }\n",
       "\n",
       "    .dataframe tbody tr th {\n",
       "        vertical-align: top;\n",
       "    }\n",
       "\n",
       "    .dataframe thead th {\n",
       "        text-align: right;\n",
       "    }\n",
       "</style>\n",
       "<table border=\"1\" class=\"dataframe\">\n",
       "  <thead>\n",
       "    <tr style=\"text-align: right;\">\n",
       "      <th></th>\n",
       "      <th>store_nbr</th>\n",
       "      <th>date</th>\n",
       "      <th>transactions</th>\n",
       "      <th>previous_transactions</th>\n",
       "    </tr>\n",
       "  </thead>\n",
       "  <tbody>\n",
       "    <tr>\n",
       "      <th>0</th>\n",
       "      <td>1</td>\n",
       "      <td>2013-01-02</td>\n",
       "      <td>2111</td>\n",
       "      <td>0</td>\n",
       "    </tr>\n",
       "    <tr>\n",
       "      <th>1</th>\n",
       "      <td>1</td>\n",
       "      <td>2013-01-03</td>\n",
       "      <td>1833</td>\n",
       "      <td>2111</td>\n",
       "    </tr>\n",
       "    <tr>\n",
       "      <th>2</th>\n",
       "      <td>1</td>\n",
       "      <td>2013-01-04</td>\n",
       "      <td>1863</td>\n",
       "      <td>1833</td>\n",
       "    </tr>\n",
       "  </tbody>\n",
       "</table>\n",
       "</div>"
      ],
      "text/plain": [
       "   store_nbr        date  transactions  previous_transactions\n",
       "0          1  2013-01-02          2111                      0\n",
       "1          1  2013-01-03          1833                   2111\n",
       "2          1  2013-01-04          1863                   1833"
      ]
     },
     "execution_count": 14,
     "metadata": {},
     "output_type": "execute_result"
    }
   ],
   "source": [
    "query = \"\"\"SELECT store_nbr, date, transactions, LAG(transactions, 1, 0) OVER ( \n",
    "PARTITION BY store_nbr\n",
    "ORDER BY store_nbr, date ) previous_transactions\n",
    "FROM store_transactions\n",
    "LIMIT 3\n",
    "\"\"\"\n",
    "\n",
    "pd.read_sql(query, conn)"
   ]
  },
  {
   "cell_type": "markdown",
   "id": "2f3489ba-1d7d-43dc-a512-8a8382bb88d9",
   "metadata": {},
   "source": [
    "As we know, the lag function can allow us to compare the current row with values from the previous row.  So to find the *change* from the previous row, we can simply subtract the current number of transactions from the previous number of transactions like so."
   ]
  },
  {
   "cell_type": "code",
   "execution_count": 18,
   "id": "3056e895-1e66-4d42-9bc0-8d1b2704fd86",
   "metadata": {},
   "outputs": [
    {
     "data": {
      "text/html": [
       "<div>\n",
       "<style scoped>\n",
       "    .dataframe tbody tr th:only-of-type {\n",
       "        vertical-align: middle;\n",
       "    }\n",
       "\n",
       "    .dataframe tbody tr th {\n",
       "        vertical-align: top;\n",
       "    }\n",
       "\n",
       "    .dataframe thead th {\n",
       "        text-align: right;\n",
       "    }\n",
       "</style>\n",
       "<table border=\"1\" class=\"dataframe\">\n",
       "  <thead>\n",
       "    <tr style=\"text-align: right;\">\n",
       "      <th></th>\n",
       "      <th>date</th>\n",
       "      <th>transactions</th>\n",
       "      <th>diff_transactions</th>\n",
       "    </tr>\n",
       "  </thead>\n",
       "  <tbody>\n",
       "    <tr>\n",
       "      <th>0</th>\n",
       "      <td>2016-01-04</td>\n",
       "      <td>10</td>\n",
       "      <td>NaN</td>\n",
       "    </tr>\n",
       "    <tr>\n",
       "      <th>1</th>\n",
       "      <td>2014-03-02</td>\n",
       "      <td>346</td>\n",
       "      <td>336.0</td>\n",
       "    </tr>\n",
       "    <tr>\n",
       "      <th>2</th>\n",
       "      <td>2015-11-01</td>\n",
       "      <td>369</td>\n",
       "      <td>23.0</td>\n",
       "    </tr>\n",
       "  </tbody>\n",
       "</table>\n",
       "</div>"
      ],
      "text/plain": [
       "         date  transactions  diff_transactions\n",
       "0  2016-01-04            10                NaN\n",
       "1  2014-03-02           346              336.0\n",
       "2  2015-11-01           369               23.0"
      ]
     },
     "execution_count": 18,
     "metadata": {},
     "output_type": "execute_result"
    }
   ],
   "source": [
    "import pandas as pd\n",
    "\n",
    "query = \"\"\"SELECT date, transactions,\n",
    "transactions - LAG(transactions, 1) OVER ( \n",
    "PARTITION BY store_nbr\n",
    "ORDER BY transactions ) diff_transactions\n",
    "FROM store_transactions\n",
    "LIMIT 3\n",
    "\"\"\"\n",
    "\n",
    "pd.read_sql(query, conn)"
   ]
  },
  {
   "cell_type": "markdown",
   "id": "f0db949b-be04-4e0d-8eb7-8a3befda557e",
   "metadata": {},
   "source": [
    "### Summary"
   ]
  },
  {
   "cell_type": "markdown",
   "id": "1f209b18-4d46-4220-993e-36819ea6377f",
   "metadata": {},
   "source": [
    "In this lesson, we saw how we use window functions to reference prior rows.  One way of doing this is with a sliding window.  With a sliding window, the window is defined relative to the current row with something like the following:  "
   ]
  },
  {
   "cell_type": "markdown",
   "id": "7aba403f-92be-4951-85f2-88334c40604e",
   "metadata": {},
   "source": [
    "```sql\n",
    "AVG(transactions) over (order by date rows between 2 preceding and current row) as avg_transactions\n",
    "```"
   ]
  },
  {
   "cell_type": "markdown",
   "id": "38002e17-bcf7-489f-942f-b993ba8eaea8",
   "metadata": {},
   "source": [
    "So the above the average number transactions of the two previous rows and the prior row. \n",
    "\n",
    "And the next query calculates the average of the previous row, current row, and succeeding row."
   ]
  },
  {
   "cell_type": "markdown",
   "id": "a68f79f4-fde4-4007-89b2-99e1140d9abd",
   "metadata": {},
   "source": [
    "```sql\n",
    "AVG(transactions) over (order by date rows between 1 preceding and 1 following) as avg_transactions\n",
    "```"
   ]
  },
  {
   "cell_type": "markdown",
   "id": "b35b76cb-9a9c-4ebf-8cf2-04fd25bcc760",
   "metadata": {},
   "source": [
    "Then, we saw how we can calculate the difference between values in different rows with the lag function.   "
   ]
  },
  {
   "cell_type": "markdown",
   "id": "073a8b4a-8280-406a-908f-f09a24054373",
   "metadata": {},
   "source": [
    "```sql\n",
    "transactions - LAG(transactions, 1) OVER (PARTITION BY store_nbr\n",
    "ORDER BY transactions ) diff_transactions\n",
    "```"
   ]
  },
  {
   "cell_type": "markdown",
   "id": "95295654-91e7-47b9-adbb-372dc9ae08bf",
   "metadata": {},
   "source": [
    "### Resources"
   ]
  },
  {
   "cell_type": "markdown",
   "id": "d34c404e-598b-48ad-9330-ddee5dce6a55",
   "metadata": {},
   "source": [
    "[Snowflake Window Functions](https://docs.snowflake.com/en/user-guide/functions-window-using.html#rank-related-window-functions)\n",
    "\n",
    "[Sqlite Window Functions](https://www.sqlite.org/windowfunctions.html)"
   ]
  }
 ],
 "metadata": {
  "kernelspec": {
   "display_name": "Python 3 (ipykernel)",
   "language": "python",
   "name": "python3"
  },
  "language_info": {
   "codemirror_mode": {
    "name": "ipython",
    "version": 3
   },
   "file_extension": ".py",
   "mimetype": "text/x-python",
   "name": "python",
   "nbconvert_exporter": "python",
   "pygments_lexer": "ipython3",
   "version": "3.9.7"
  }
 },
 "nbformat": 4,
 "nbformat_minor": 5
}
