{
 "cells": [
  {
   "cell_type": "markdown",
   "id": "e38bd12f-069c-413a-ab1e-6437fc7257aa",
   "metadata": {},
   "source": [
    "# IMDB Window Functions Lab"
   ]
  },
  {
   "cell_type": "markdown",
   "id": "7e9692d9-0b33-49ca-bb36-c258b7f7db56",
   "metadata": {},
   "source": [
    "### Introduction"
   ]
  },
  {
   "cell_type": "markdown",
   "id": "08124b7d-ac53-40f2-b15d-4ae982e88b12",
   "metadata": {},
   "source": [
    "In this lesson, we'll practice working with window functions to aggregate our data.  Let's get started."
   ]
  },
  {
   "cell_type": "markdown",
   "id": "ed99373c-cf1e-4990-a079-87707c717302",
   "metadata": {},
   "source": [
    "### Loading our Data"
   ]
  },
  {
   "cell_type": "markdown",
   "id": "49d25838-1d23-40f1-9580-f096eb662d8e",
   "metadata": {},
   "source": [
    "Let's begin by loading our data, which consists of a relational database of various movies and related ratings and actors."
   ]
  },
  {
   "cell_type": "code",
   "execution_count": 1,
   "id": "112dabf0-455a-4e56-a814-51898856074d",
   "metadata": {},
   "outputs": [
    {
     "name": "stderr",
     "output_type": "stream",
     "text": [
      "/Users/jeffreykatz/miniconda3/envs/minimal_de/lib/python3.9/site-packages/IPython/core/interactiveshell.py:3444: DtypeWarning: Columns (2) have mixed types.Specify dtype option on import or set low_memory=False.\n",
      "  exec(code_obj, self.user_global_ns, self.user_ns)\n"
     ]
    }
   ],
   "source": [
    "import pandas as pd\n",
    "url = \"https://raw.githubusercontent.com/data-eng-10-21/window-functions/main/data/\"\n",
    "movies_df = pd.read_csv(f'{url}/movies.csv')\n",
    "names_df = pd.read_csv(f'{url}/names.csv')\n",
    "ratings_df = pd.read_csv(f'{url}/ratings.csv')\n",
    "title_principals_df = pd.read_csv(f'{url}/title_principals.csv')\n",
    "names_df = pd.read_csv(f'{url}/names.csv')"
   ]
  },
  {
   "cell_type": "code",
   "execution_count": 3,
   "id": "31fe8a05-e830-470e-a5ce-5e569e17e02c",
   "metadata": {},
   "outputs": [],
   "source": [
    "import sqlite3\n",
    "conn = sqlite3.connect('imdb.db')"
   ]
  },
  {
   "cell_type": "markdown",
   "id": "ce683df9-073a-4786-9c95-81fcbd0e143c",
   "metadata": {},
   "source": [
    "Now we can create our various tables."
   ]
  },
  {
   "cell_type": "code",
   "execution_count": 4,
   "id": "8f1238d0-2a68-4a8d-b3d1-ab767b756d77",
   "metadata": {},
   "outputs": [],
   "source": [
    "movies_df.to_sql('movies', conn, index = False, if_exists = 'replace')"
   ]
  },
  {
   "cell_type": "code",
   "execution_count": 14,
   "id": "6ca3d1a4-ede8-4bbd-ac99-6d70c8948331",
   "metadata": {},
   "outputs": [],
   "source": [
    "names_df.to_sql('names', conn, index = False, if_exists = 'replace')"
   ]
  },
  {
   "cell_type": "code",
   "execution_count": 15,
   "id": "68342f2d-470d-4e09-80af-032c40a65d18",
   "metadata": {},
   "outputs": [],
   "source": [
    "ratings_df.to_sql('ratings', conn, index = False, if_exists = 'replace')"
   ]
  },
  {
   "cell_type": "code",
   "execution_count": 16,
   "id": "299d4137-464a-41e8-89b6-259068c160c7",
   "metadata": {},
   "outputs": [],
   "source": [
    "title_principals_df.to_sql('movie_roles', conn, index = False, if_exists = 'replace')"
   ]
  },
  {
   "cell_type": "markdown",
   "id": "02a2d388-54a8-4299-b10f-7f9abf660934",
   "metadata": {},
   "source": [
    "### Using window functions"
   ]
  },
  {
   "cell_type": "code",
   "execution_count": null,
   "id": "d6156e1f-5c04-427f-9217-7b5f7c9c48e4",
   "metadata": {},
   "outputs": [],
   "source": []
  },
  {
   "cell_type": "code",
   "execution_count": 19,
   "id": "1f84fa1b-a730-4d1f-8ec9-447f985d5a37",
   "metadata": {},
   "outputs": [
    {
     "data": {
      "text/html": [
       "<div>\n",
       "<style scoped>\n",
       "    .dataframe tbody tr th:only-of-type {\n",
       "        vertical-align: middle;\n",
       "    }\n",
       "\n",
       "    .dataframe tbody tr th {\n",
       "        vertical-align: top;\n",
       "    }\n",
       "\n",
       "    .dataframe thead th {\n",
       "        text-align: right;\n",
       "    }\n",
       "</style>\n",
       "<table border=\"1\" class=\"dataframe\">\n",
       "  <thead>\n",
       "    <tr style=\"text-align: right;\">\n",
       "      <th></th>\n",
       "      <th>imdb_title_id</th>\n",
       "      <th>title</th>\n",
       "      <th>year</th>\n",
       "      <th>date_published</th>\n",
       "      <th>genre</th>\n",
       "      <th>duration</th>\n",
       "      <th>country</th>\n",
       "      <th>language</th>\n",
       "      <th>director</th>\n",
       "      <th>writer</th>\n",
       "      <th>budget</th>\n",
       "      <th>worlwide_gross_income</th>\n",
       "      <th>metascore</th>\n",
       "      <th>income</th>\n",
       "    </tr>\n",
       "  </thead>\n",
       "  <tbody>\n",
       "    <tr>\n",
       "      <th>0</th>\n",
       "      <td>tt0000009</td>\n",
       "      <td>Miss Jerry</td>\n",
       "      <td>1894</td>\n",
       "      <td>1894-10-09</td>\n",
       "      <td>Romance</td>\n",
       "      <td>45</td>\n",
       "      <td>USA</td>\n",
       "      <td>None</td>\n",
       "      <td>Alexander Black</td>\n",
       "      <td>Alexander Black</td>\n",
       "      <td>None</td>\n",
       "      <td>None</td>\n",
       "      <td>None</td>\n",
       "      <td>None</td>\n",
       "    </tr>\n",
       "  </tbody>\n",
       "</table>\n",
       "</div>"
      ],
      "text/plain": [
       "  imdb_title_id       title  year date_published    genre  duration country  \\\n",
       "0     tt0000009  Miss Jerry  1894     1894-10-09  Romance        45     USA   \n",
       "\n",
       "  language         director           writer budget worlwide_gross_income  \\\n",
       "0     None  Alexander Black  Alexander Black   None                  None   \n",
       "\n",
       "  metascore income  \n",
       "0      None   None  "
      ]
     },
     "execution_count": 19,
     "metadata": {},
     "output_type": "execute_result"
    }
   ],
   "source": [
    "pd.read_sql('SELECT * FROM movies LIMIT 1;', conn)"
   ]
  },
  {
   "cell_type": "markdown",
   "id": "7a5e936d-d800-4fda-a939-46b33ee3ddb6",
   "metadata": {},
   "source": [
    "Let's begin by selecting movies after the year 2000, finding the average length of the move for that year, and also including columns for the title of the movie, and each movie's runtime.  Order the movies by year and duration."
   ]
  },
  {
   "cell_type": "code",
   "execution_count": 24,
   "id": "7bf262e3-da70-455f-bb2b-64d5b34501a0",
   "metadata": {},
   "outputs": [
    {
     "data": {
      "text/html": [
       "<div>\n",
       "<style scoped>\n",
       "    .dataframe tbody tr th:only-of-type {\n",
       "        vertical-align: middle;\n",
       "    }\n",
       "\n",
       "    .dataframe tbody tr th {\n",
       "        vertical-align: top;\n",
       "    }\n",
       "\n",
       "    .dataframe thead th {\n",
       "        text-align: right;\n",
       "    }\n",
       "</style>\n",
       "<table border=\"1\" class=\"dataframe\">\n",
       "  <thead>\n",
       "    <tr style=\"text-align: right;\">\n",
       "      <th></th>\n",
       "      <th>title</th>\n",
       "      <th>duration</th>\n",
       "      <th>avg_duration</th>\n",
       "    </tr>\n",
       "  </thead>\n",
       "  <tbody>\n",
       "    <tr>\n",
       "      <th>0</th>\n",
       "      <td>Kai Doh Maru</td>\n",
       "      <td>45</td>\n",
       "      <td>102.467865</td>\n",
       "    </tr>\n",
       "    <tr>\n",
       "      <th>1</th>\n",
       "      <td>Wave Twisters</td>\n",
       "      <td>46</td>\n",
       "      <td>102.467865</td>\n",
       "    </tr>\n",
       "    <tr>\n",
       "      <th>2</th>\n",
       "      <td>The Yellow Sign</td>\n",
       "      <td>47</td>\n",
       "      <td>102.467865</td>\n",
       "    </tr>\n",
       "    <tr>\n",
       "      <th>3</th>\n",
       "      <td>China: The Panda Adventure</td>\n",
       "      <td>48</td>\n",
       "      <td>102.467865</td>\n",
       "    </tr>\n",
       "    <tr>\n",
       "      <th>4</th>\n",
       "      <td>Lay It Down</td>\n",
       "      <td>50</td>\n",
       "      <td>102.467865</td>\n",
       "    </tr>\n",
       "  </tbody>\n",
       "</table>\n",
       "</div>"
      ],
      "text/plain": [
       "                        title  duration  avg_duration\n",
       "0                Kai Doh Maru        45    102.467865\n",
       "1               Wave Twisters        46    102.467865\n",
       "2             The Yellow Sign        47    102.467865\n",
       "3  China: The Panda Adventure        48    102.467865\n",
       "4                 Lay It Down        50    102.467865"
      ]
     },
     "execution_count": 24,
     "metadata": {},
     "output_type": "execute_result"
    }
   ],
   "source": [
    "query = \"\"\"\n",
    "\"\"\"\n",
    "\n",
    "pd.read_sql(query, conn)\n",
    "\n",
    "# title\t            duration\t     avg_duration\n",
    "# 0\tKai Doh Maru\t45\t       102.467865\n",
    "# 1\tWave Twisters\t46\t        102.467865\n",
    "# 2\tThe Yellow Sign\t47\t      102.467865\n",
    "# 3\tChina: The Panda Adventure\t48\t102.467865\n",
    "# 4\tLay It Down\t50\t102.467865"
   ]
  },
  {
   "cell_type": "markdown",
   "id": "fd30079e-7693-4cce-afcd-f9adb6716703",
   "metadata": {},
   "source": [
    "Next, select each movie's year, title, duration, and calculate the `average_duration` for that year, and movies of the same genre.  Then calculate how each movie's runtime length deviates from the average.\n",
    "\n",
    "Select only those movies made after 2018, whose genre is `Drama` or `Comedy` and order the results by year, genre, and duration."
   ]
  },
  {
   "cell_type": "code",
   "execution_count": 42,
   "id": "01b33060-5b5a-4676-adc2-20e6d7d7544b",
   "metadata": {},
   "outputs": [
    {
     "data": {
      "text/html": [
       "<div>\n",
       "<style scoped>\n",
       "    .dataframe tbody tr th:only-of-type {\n",
       "        vertical-align: middle;\n",
       "    }\n",
       "\n",
       "    .dataframe tbody tr th {\n",
       "        vertical-align: top;\n",
       "    }\n",
       "\n",
       "    .dataframe thead th {\n",
       "        text-align: right;\n",
       "    }\n",
       "</style>\n",
       "<table border=\"1\" class=\"dataframe\">\n",
       "  <thead>\n",
       "    <tr style=\"text-align: right;\">\n",
       "      <th></th>\n",
       "      <th>year</th>\n",
       "      <th>title</th>\n",
       "      <th>duration</th>\n",
       "      <th>avg_length</th>\n",
       "      <th>length_minus_avg</th>\n",
       "    </tr>\n",
       "  </thead>\n",
       "  <tbody>\n",
       "    <tr>\n",
       "      <th>0</th>\n",
       "      <td>2019</td>\n",
       "      <td>Present Laughter</td>\n",
       "      <td>180</td>\n",
       "      <td>99.968627</td>\n",
       "      <td>80.031373</td>\n",
       "    </tr>\n",
       "    <tr>\n",
       "      <th>1</th>\n",
       "      <td>2019</td>\n",
       "      <td>Rangeela Raja</td>\n",
       "      <td>162</td>\n",
       "      <td>99.968627</td>\n",
       "      <td>62.031373</td>\n",
       "    </tr>\n",
       "    <tr>\n",
       "      <th>2</th>\n",
       "      <td>2019</td>\n",
       "      <td>F2: Fun and Frustration</td>\n",
       "      <td>148</td>\n",
       "      <td>99.968627</td>\n",
       "      <td>48.031373</td>\n",
       "    </tr>\n",
       "    <tr>\n",
       "      <th>3</th>\n",
       "      <td>2019</td>\n",
       "      <td>ABCD: American-Born Confused Desi</td>\n",
       "      <td>145</td>\n",
       "      <td>99.968627</td>\n",
       "      <td>45.031373</td>\n",
       "    </tr>\n",
       "    <tr>\n",
       "      <th>4</th>\n",
       "      <td>2019</td>\n",
       "      <td>Takatak</td>\n",
       "      <td>144</td>\n",
       "      <td>99.968627</td>\n",
       "      <td>44.031373</td>\n",
       "    </tr>\n",
       "    <tr>\n",
       "      <th>...</th>\n",
       "      <td>...</td>\n",
       "      <td>...</td>\n",
       "      <td>...</td>\n",
       "      <td>...</td>\n",
       "      <td>...</td>\n",
       "    </tr>\n",
       "    <tr>\n",
       "      <th>890</th>\n",
       "      <td>2020</td>\n",
       "      <td>Domangchin yeoja</td>\n",
       "      <td>77</td>\n",
       "      <td>108.096154</td>\n",
       "      <td>-31.096154</td>\n",
       "    </tr>\n",
       "    <tr>\n",
       "      <th>891</th>\n",
       "      <td>2020</td>\n",
       "      <td>Zima</td>\n",
       "      <td>76</td>\n",
       "      <td>108.096154</td>\n",
       "      <td>-32.096154</td>\n",
       "    </tr>\n",
       "    <tr>\n",
       "      <th>892</th>\n",
       "      <td>2020</td>\n",
       "      <td>Betta Fish</td>\n",
       "      <td>76</td>\n",
       "      <td>108.096154</td>\n",
       "      <td>-32.096154</td>\n",
       "    </tr>\n",
       "    <tr>\n",
       "      <th>893</th>\n",
       "      <td>2020</td>\n",
       "      <td>A Stormy Night</td>\n",
       "      <td>75</td>\n",
       "      <td>108.096154</td>\n",
       "      <td>-33.096154</td>\n",
       "    </tr>\n",
       "    <tr>\n",
       "      <th>894</th>\n",
       "      <td>2020</td>\n",
       "      <td>Ar Condicionado</td>\n",
       "      <td>72</td>\n",
       "      <td>108.096154</td>\n",
       "      <td>-36.096154</td>\n",
       "    </tr>\n",
       "  </tbody>\n",
       "</table>\n",
       "<p>895 rows × 5 columns</p>\n",
       "</div>"
      ],
      "text/plain": [
       "     year                              title  duration  avg_length  \\\n",
       "0    2019                   Present Laughter       180   99.968627   \n",
       "1    2019                      Rangeela Raja       162   99.968627   \n",
       "2    2019            F2: Fun and Frustration       148   99.968627   \n",
       "3    2019  ABCD: American-Born Confused Desi       145   99.968627   \n",
       "4    2019                            Takatak       144   99.968627   \n",
       "..    ...                                ...       ...         ...   \n",
       "890  2020                   Domangchin yeoja        77  108.096154   \n",
       "891  2020                               Zima        76  108.096154   \n",
       "892  2020                         Betta Fish        76  108.096154   \n",
       "893  2020                     A Stormy Night        75  108.096154   \n",
       "894  2020                    Ar Condicionado        72  108.096154   \n",
       "\n",
       "     length_minus_avg  \n",
       "0           80.031373  \n",
       "1           62.031373  \n",
       "2           48.031373  \n",
       "3           45.031373  \n",
       "4           44.031373  \n",
       "..                ...  \n",
       "890        -31.096154  \n",
       "891        -32.096154  \n",
       "892        -32.096154  \n",
       "893        -33.096154  \n",
       "894        -36.096154  \n",
       "\n",
       "[895 rows x 5 columns]"
      ]
     },
     "execution_count": 42,
     "metadata": {},
     "output_type": "execute_result"
    }
   ],
   "source": [
    "query = \"\"\"\n",
    "\"\"\"\n",
    "\n",
    "df = pd.read_sql(query, conn)\n",
    "df\n",
    "\n",
    "# \tyear\ttitle\tduration\tavg_length\tlength_minus_avg\n",
    "# 0\t2019\tPresent Laughter\t180\t99.968627\t80.031373\n",
    "# 1\t2019\tRangeela Raja\t162\t99.968627\t62.031373\n",
    "# 2\t2019\tF2: Fun and Frustration\t148\t99.968627\t48.031373\n",
    "# 3\t2019\tABCD: American-Born Confused Desi\t145\t99.968627\t45.031373\n",
    "# 4\t2019\tTakatak\t144\t99.968627\t44.031373\n",
    "# ...\t...\t...\t...\t...\t...\n",
    "# 890\t2020\tDomangchin yeoja\t77\t108.096154\t-31.096154\n",
    "# 891\t2020\tZima\t76\t108.096154\t-32.096154\n",
    "# 892\t2020\tBetta Fish\t76\t108.096154\t-32.096154\n",
    "# 893\t2020\tA Stormy Night\t75\t108.096154\t-33.096154\n",
    "# 894\t2020\tAr Condicionado\t72\t108.096154\t-36.096154"
   ]
  },
  {
   "cell_type": "markdown",
   "id": "a5908694-2b0c-4011-92f3-d15bfebddf91",
   "metadata": {},
   "source": [
    "### Window functions group by"
   ]
  },
  {
   "cell_type": "markdown",
   "id": "ec842839-1dc8-4552-bd7e-cbe211f6188a",
   "metadata": {},
   "source": [
    "Now use SQL to produce the picture below."
   ]
  },
  {
   "cell_type": "markdown",
   "id": "ef8bd8ab-4f1b-4e0b-9267-3ee93a5e5ce4",
   "metadata": {},
   "source": [
    "> We'll explain more below."
   ]
  },
  {
   "cell_type": "markdown",
   "id": "01b43df5-ff3e-4b92-a369-b285c89b5262",
   "metadata": {},
   "source": [
    "<img src=\"./data.png\" width=\"80%\">"
   ]
  },
  {
   "cell_type": "markdown",
   "id": "a06eb9af-e9da-4957-9eeb-c3bc71cfb042",
   "metadata": {},
   "source": [
    "So in the above, we reduced our data to years after 2015.  And we have a row for each genre and year.  For each year and genre, we calculate the average length of the movie, the number of movies in that category per year, and then also calculate the average length of movies for that year across all genres."
   ]
  },
  {
   "cell_type": "code",
   "execution_count": 63,
   "id": "40af9b68-ff25-44ca-9782-bbadb861f18e",
   "metadata": {},
   "outputs": [
    {
     "data": {
      "text/html": [
       "<div>\n",
       "<style scoped>\n",
       "    .dataframe tbody tr th:only-of-type {\n",
       "        vertical-align: middle;\n",
       "    }\n",
       "\n",
       "    .dataframe tbody tr th {\n",
       "        vertical-align: top;\n",
       "    }\n",
       "\n",
       "    .dataframe thead th {\n",
       "        text-align: right;\n",
       "    }\n",
       "</style>\n",
       "<table border=\"1\" class=\"dataframe\">\n",
       "  <thead>\n",
       "    <tr style=\"text-align: right;\">\n",
       "      <th></th>\n",
       "      <th>year</th>\n",
       "      <th>genre</th>\n",
       "      <th>avg_duration_per_genre</th>\n",
       "      <th>num_movies</th>\n",
       "      <th>avg_per_year</th>\n",
       "    </tr>\n",
       "  </thead>\n",
       "  <tbody>\n",
       "    <tr>\n",
       "      <th>0</th>\n",
       "      <td>2016</td>\n",
       "      <td>Drama</td>\n",
       "      <td>101.268456</td>\n",
       "      <td>447</td>\n",
       "      <td>102.954704</td>\n",
       "    </tr>\n",
       "    <tr>\n",
       "      <th>1</th>\n",
       "      <td>2016</td>\n",
       "      <td>Comedy</td>\n",
       "      <td>98.249135</td>\n",
       "      <td>289</td>\n",
       "      <td>102.954704</td>\n",
       "    </tr>\n",
       "    <tr>\n",
       "      <th>2</th>\n",
       "      <td>2016</td>\n",
       "      <td>Comedy, Drama</td>\n",
       "      <td>102.988166</td>\n",
       "      <td>169</td>\n",
       "      <td>102.954704</td>\n",
       "    </tr>\n",
       "    <tr>\n",
       "      <th>3</th>\n",
       "      <td>2016</td>\n",
       "      <td>Drama, Romance</td>\n",
       "      <td>104.401786</td>\n",
       "      <td>112</td>\n",
       "      <td>102.954704</td>\n",
       "    </tr>\n",
       "    <tr>\n",
       "      <th>4</th>\n",
       "      <td>2016</td>\n",
       "      <td>Horror</td>\n",
       "      <td>89.145631</td>\n",
       "      <td>103</td>\n",
       "      <td>102.954704</td>\n",
       "    </tr>\n",
       "    <tr>\n",
       "      <th>...</th>\n",
       "      <td>...</td>\n",
       "      <td>...</td>\n",
       "      <td>...</td>\n",
       "      <td>...</td>\n",
       "      <td>...</td>\n",
       "    </tr>\n",
       "    <tr>\n",
       "      <th>1374</th>\n",
       "      <td>2020</td>\n",
       "      <td>Musical</td>\n",
       "      <td>92.000000</td>\n",
       "      <td>1</td>\n",
       "      <td>107.808140</td>\n",
       "    </tr>\n",
       "    <tr>\n",
       "      <th>1375</th>\n",
       "      <td>2020</td>\n",
       "      <td>Mystery</td>\n",
       "      <td>140.000000</td>\n",
       "      <td>1</td>\n",
       "      <td>107.808140</td>\n",
       "    </tr>\n",
       "    <tr>\n",
       "      <th>1376</th>\n",
       "      <td>2020</td>\n",
       "      <td>Mystery, Sci-Fi, Thriller</td>\n",
       "      <td>97.000000</td>\n",
       "      <td>1</td>\n",
       "      <td>107.808140</td>\n",
       "    </tr>\n",
       "    <tr>\n",
       "      <th>1377</th>\n",
       "      <td>2020</td>\n",
       "      <td>Sport</td>\n",
       "      <td>104.000000</td>\n",
       "      <td>1</td>\n",
       "      <td>107.808140</td>\n",
       "    </tr>\n",
       "    <tr>\n",
       "      <th>1378</th>\n",
       "      <td>TV Movie 2019</td>\n",
       "      <td>Biography, Comedy, Crime</td>\n",
       "      <td>108.000000</td>\n",
       "      <td>1</td>\n",
       "      <td>108.000000</td>\n",
       "    </tr>\n",
       "  </tbody>\n",
       "</table>\n",
       "<p>1379 rows × 5 columns</p>\n",
       "</div>"
      ],
      "text/plain": [
       "               year                      genre  avg_duration_per_genre  \\\n",
       "0              2016                      Drama              101.268456   \n",
       "1              2016                     Comedy               98.249135   \n",
       "2              2016              Comedy, Drama              102.988166   \n",
       "3              2016             Drama, Romance              104.401786   \n",
       "4              2016                     Horror               89.145631   \n",
       "...             ...                        ...                     ...   \n",
       "1374           2020                    Musical               92.000000   \n",
       "1375           2020                    Mystery              140.000000   \n",
       "1376           2020  Mystery, Sci-Fi, Thriller               97.000000   \n",
       "1377           2020                      Sport              104.000000   \n",
       "1378  TV Movie 2019   Biography, Comedy, Crime              108.000000   \n",
       "\n",
       "      num_movies  avg_per_year  \n",
       "0            447    102.954704  \n",
       "1            289    102.954704  \n",
       "2            169    102.954704  \n",
       "3            112    102.954704  \n",
       "4            103    102.954704  \n",
       "...          ...           ...  \n",
       "1374           1    107.808140  \n",
       "1375           1    107.808140  \n",
       "1376           1    107.808140  \n",
       "1377           1    107.808140  \n",
       "1378           1    108.000000  \n",
       "\n",
       "[1379 rows x 5 columns]"
      ]
     },
     "execution_count": 63,
     "metadata": {},
     "output_type": "execute_result"
    }
   ],
   "source": [
    "query = \"\"\"\n",
    "\n",
    "\"\"\"\n",
    "pd.read_sql(query, conn)"
   ]
  },
  {
   "cell_type": "markdown",
   "id": "46067864-bfd5-4fd6-90fc-99406f1be7fc",
   "metadata": {},
   "source": [
    "### Summary"
   ]
  },
  {
   "cell_type": "markdown",
   "id": "3e28b36b-1d69-4b2f-baef-fa0042964a15",
   "metadata": {},
   "source": [
    "In this lesson, we practiced working with window functions.  As we saw, we can use a window function to partition our data by multiple columns.  And we saw that we can use a window function to calculate how a movie differs from  the average amount in that group."
   ]
  }
 ],
 "metadata": {
  "kernelspec": {
   "display_name": "Python 3 (ipykernel)",
   "language": "python",
   "name": "python3"
  },
  "language_info": {
   "codemirror_mode": {
    "name": "ipython",
    "version": 3
   },
   "file_extension": ".py",
   "mimetype": "text/x-python",
   "name": "python",
   "nbconvert_exporter": "python",
   "pygments_lexer": "ipython3",
   "version": "3.9.7"
  }
 },
 "nbformat": 4,
 "nbformat_minor": 5
}
